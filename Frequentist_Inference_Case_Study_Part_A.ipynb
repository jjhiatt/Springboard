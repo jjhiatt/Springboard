{
  "nbformat": 4,
  "nbformat_minor": 0,
  "metadata": {
    "colab": {
      "provenance": [],
      "authorship_tag": "ABX9TyOY8CnCqWaXh/5UzIwXSQMU",
      "include_colab_link": true
    },
    "kernelspec": {
      "name": "python3",
      "display_name": "Python 3"
    },
    "language_info": {
      "name": "python"
    }
  },
  "cells": [
    {
      "cell_type": "markdown",
      "metadata": {
        "id": "view-in-github",
        "colab_type": "text"
      },
      "source": [
        "<a href=\"https://colab.research.google.com/github/jjhiatt/Springboard/blob/master/Frequentist_Inference_Case_Study_Part_A.ipynb\" target=\"_parent\"><img src=\"https://colab.research.google.com/assets/colab-badge.svg\" alt=\"Open In Colab\"/></a>"
      ]
    },
    {
      "cell_type": "markdown",
      "source": [
        "Frequentist Inference Case Study - Part A\n",
        "1. Learning objectives\n",
        "Welcome to part A of the Frequentist inference case study! The purpose of this case study is to help you apply the concepts associated with Frequentist inference in Python. Frequentist inference is the process of deriving conclusions about an underlying distribution via the observation of data. In particular, you'll practice writing Python code to apply the following statistical concepts:\n",
        "\n",
        "the z-statistic\n",
        "the t-statistic\n",
        "the difference and relationship between the two\n",
        "the Central Limit Theorem, including its assumptions and consequences\n",
        "how to estimate the population mean and standard deviation from a sample\n",
        "the concept of a sampling distribution of a test statistic, particularly for the mean\n",
        "how to combine these concepts to calculate a confidence interval\n",
        "Prerequisites\n",
        "To be able to complete this notebook, you are expected to have a basic understanding of:\n",
        "\n",
        "what a random variable is (p.400 of Professor Spiegelhalter's The Art of Statistics, hereinafter AoS)\n",
        "what a population, and a population distribution, are (p. 397 of AoS)\n",
        "a high-level sense of what the normal distribution is (p. 394 of AoS)\n",
        "what the t-statistic is (p. 275 of AoS)\n",
        "Happily, these should all be concepts with which you are reasonably familiar after having read ten chapters of Professor Spiegelhalter's book, The Art of Statistics.\n",
        "\n",
        "We'll try to relate the concepts in this case study back to page numbers in The Art of Statistics so that you can focus on the Python aspects of this case study. The second part (part B) of this case study will involve another, more real-world application of these tools.\n",
        "\n",
        "For this notebook, we will use data sampled from a known normal distribution. This allows us to compare our results with theoretical expectations.\n",
        "\n",
        "2. An introduction to sampling from the normal distribution\n",
        "First, let's explore the ways we can generate the normal distribution. While there's a fair amount of interest in sklearn within the machine learning community, you're likely to have heard of scipy if you're coming from the sciences. For this assignment, you'll use scipy.stats to complete your work.\n",
        "\n",
        "This assignment will require some digging around and getting your hands dirty (your learning is maximized that way)! You should have the research skills and the tenacity to do these tasks independently, but if you struggle, reach out to your immediate community and your mentor for help."
      ],
      "metadata": {
        "id": "dKlkQn70tn5Z"
      }
    },
    {
      "cell_type": "code",
      "execution_count": 63,
      "metadata": {
        "id": "gN--dU0ec4ST"
      },
      "outputs": [],
      "source": [
        "from scipy.stats import norm\n",
        "from scipy.stats import t\n",
        "import numpy as np\n",
        "import pandas as pd\n",
        "from numpy.random import seed\n",
        "import matplotlib.pyplot as plt"
      ]
    },
    {
      "cell_type": "markdown",
      "source": [
        "Q1: Call up the documentation for the norm function imported above. (Hint: that documentation is here). What is the second listed method?"
      ],
      "metadata": {
        "id": "-2xu7jcYdj_S"
      }
    },
    {
      "cell_type": "code",
      "source": [
        "x = np.linspace(norm.ppf(0.01),\n",
        "                norm.ppf(0.99), 100)\n",
        "plt.plot(x, norm.pdf(x),\n",
        "       'r-', lw=5, alpha=0.6, label='norm pdf')\n",
        "\n",
        "\n",
        "plt.show()"
      ],
      "metadata": {
        "colab": {
          "base_uri": "https://localhost:8080/",
          "height": 430
        },
        "id": "LdeAGJAIdIni",
        "outputId": "b6e55422-67bd-4cb7-f169-d1d0a720ec8f"
      },
      "execution_count": 2,
      "outputs": [
        {
          "output_type": "display_data",
          "data": {
            "text/plain": [
              "<Figure size 640x480 with 1 Axes>"
            ],
            "image/png": "[encoded data removed]"
          },
          "metadata": {}
        }
      ]
    },
    {
      "cell_type": "markdown",
      "source": [
        "Q2: Use the method that generates random variates to draw five samples from the standard normal distribution."
      ],
      "metadata": {
        "id": "tL1_8aNbd3Ok"
      }
    },
    {
      "cell_type": "code",
      "source": [
        "seed(47)\n",
        "# draw five samples here\n",
        "sample = np.random.normal(size=5)\n",
        "sample"
      ],
      "metadata": {
        "colab": {
          "base_uri": "https://localhost:8080/"
        },
        "id": "8VKZwf7fd6ja",
        "outputId": "7f5ab04d-d1ef-4ae9-dc36-d6c4200f0454"
      },
      "execution_count": 9,
      "outputs": [
        {
          "output_type": "execute_result",
          "data": {
            "text/plain": [
              "array([-0.84800948,  1.30590636,  0.92420797,  0.6404118 , -1.05473698])"
            ]
          },
          "metadata": {},
          "execution_count": 9
        }
      ]
    },
    {
      "cell_type": "markdown",
      "source": [
        "Q3: What is the mean of this sample? Is it exactly equal to the value you expected? Hint: the sample was drawn from the standard normal distribution. If you want a reminder of the properties of this distribution, check out p. 85 of AoS."
      ],
      "metadata": {
        "id": "rYNJWcPpeCQ9"
      }
    },
    {
      "cell_type": "code",
      "source": [
        "# Calculate and print the mean here, hint: use np.mean()\n",
        "np.mean(sample)"
      ],
      "metadata": {
        "colab": {
          "base_uri": "https://localhost:8080/"
        },
        "id": "27vFWW6Ep4c5",
        "outputId": "ffaaff87-c7ca-42fa-d24e-574ea7b71588"
      },
      "execution_count": 10,
      "outputs": [
        {
          "output_type": "execute_result",
          "data": {
            "text/plain": [
              "0.19355593334131074"
            ]
          },
          "metadata": {},
          "execution_count": 10
        }
      ]
    },
    {
      "cell_type": "markdown",
      "source": [
        "Q4: What is the standard deviation of these numbers? Calculate this manually here as\n",
        "\n",
        " (This is just the definition of standard deviation given by Professor Spiegelhalter on p.403 of AoS). Hint: np.sqrt() and np.sum() will be useful here and remember that numPy supports broadcasting."
      ],
      "metadata": {
        "id": "Bgwj72hKsdi8"
      }
    },
    {
      "cell_type": "code",
      "source": [
        "np.sqrt(np.sum(pow(sample - np.mean(sample),2)/len(sample)))"
      ],
      "metadata": {
        "colab": {
          "base_uri": "https://localhost:8080/"
        },
        "id": "wlWLtpHWsgYt",
        "outputId": "cfb39874-e2a6-44b0-d43f-b46bbf8311c7"
      },
      "execution_count": 69,
      "outputs": [
        {
          "output_type": "execute_result",
          "data": {
            "text/plain": [
              "4.153258225264712"
            ]
          },
          "metadata": {},
          "execution_count": 69
        }
      ]
    },
    {
      "cell_type": "markdown",
      "source": [
        "Q6: Now use numpy's std function to calculate the standard deviation of our random samples. Which of the above standard deviations did it return?"
      ],
      "metadata": {
        "id": "cggjypFFsznZ"
      }
    },
    {
      "cell_type": "code",
      "source": [
        "np.std(sample)"
      ],
      "metadata": {
        "colab": {
          "base_uri": "https://localhost:8080/"
        },
        "id": "yVc-ay3Bs2YA",
        "outputId": "db7c1ee5-602a-4271-b2e5-a8e6cecce0a3"
      },
      "execution_count": 70,
      "outputs": [
        {
          "output_type": "execute_result",
          "data": {
            "text/plain": [
              "4.153258225264712"
            ]
          },
          "metadata": {},
          "execution_count": 70
        }
      ]
    },
    {
      "cell_type": "markdown",
      "source": [
        "Q7: Consult the documentation for np.std() to see how to apply the correction for estimating the population parameter and verify this produces the expected result."
      ],
      "metadata": {
        "id": "daKPFxyhs_oI"
      }
    },
    {
      "cell_type": "code",
      "source": [
        "print(np.std.__doc__)"
      ],
      "metadata": {
        "id": "_b0xdK6HtBjM"
      },
      "execution_count": null,
      "outputs": []
    },
    {
      "cell_type": "code",
      "source": [
        "np.std(sample, ddof=1)"
      ],
      "metadata": {
        "colab": {
          "base_uri": "https://localhost:8080/"
        },
        "id": "-u0vfvGEtNH8",
        "outputId": "eeea611c-e331-4619-ab6f-fa8ee754506d"
      },
      "execution_count": 72,
      "outputs": [
        {
          "output_type": "execute_result",
          "data": {
            "text/plain": [
              "4.195424364433547"
            ]
          },
          "metadata": {},
          "execution_count": 72
        }
      ]
    },
    {
      "cell_type": "markdown",
      "source": [
        "Summary of section\n",
        "In this section, you've been introduced to the scipy.stats package and used it to draw a small sample from the standard normal distribution. You've calculated the average (the mean) of this sample and seen that this is not exactly equal to the expected population parameter (which we know because we're generating the random variates from a specific, known distribution). You've been introduced to two ways of calculating the standard deviation; one uses\n",
        " in the denominator and the other uses\n",
        " (Bessel's correction). You've also seen which of these calculations np.std() performs by default and how to get it to generate the other.\n",
        "\n",
        "You use\n",
        " as the denominator if you want to calculate the standard deviation of a sequence of numbers. You use\n",
        " if you are using this sequence of numbers to estimate the population parameter. This brings us to some terminology that can be a little confusing.\n",
        "\n",
        "The population parameter is traditionally written as\n",
        " and the sample statistic as\n",
        ". Rather unhelpfully,\n",
        " is also called the sample standard deviation (using\n",
        ") whereas the standard deviation of the sample uses\n",
        ". That's right, we have the sample standard deviation and the standard deviation of the sample and they're not the same thing!\n",
        "\n",
        "The sample standard deviation\n",
        "\n",
        "\n",
        "is our best (unbiased) estimate of the population parameter (\n",
        ").\n",
        "\n",
        "If your dataset is your entire population, you simply want to calculate the population parameter,\n",
        ", via\n",
        "\n",
        "\n",
        "as you have complete, full knowledge of your population. In other words, your sample is your population. It's worth noting that we're dealing with what Professor Spiegehalter describes on p. 92 of AoS as a metaphorical population: we have all the data, and we act as if the data-point is taken from a population at random. We can think of this population as an imaginary space of possibilities.\n",
        "\n",
        "If, however, you have sampled from your population, you only have partial knowledge of the state of your population. In this case, the standard deviation of your sample is not an unbiased estimate of the standard deviation of the population, in which case you seek to estimate that population parameter via the sample standard deviation, which uses the\n",
        " denominator.\n",
        "\n",
        "Great work so far! Now let's dive deeper.\n",
        "\n",
        "3. Sampling distributions\n",
        "So far we've been dealing with the concept of taking a sample from a population to infer the population parameters. One statistic we calculated for a sample was the mean. As our samples will be expected to vary from one draw to another, so will our sample statistics. If we were to perform repeat draws of size\n",
        " and calculate the mean of each, we would expect to obtain a distribution of values. This is the sampling distribution of the mean. The Central Limit Theorem (CLT) tells us that such a distribution will approach a normal distribution as\n",
        " increases (the intuitions behind the CLT are covered in full on p. 236 of AoS). For the sampling distribution of the mean, the standard deviation of this distribution is given by\n",
        "\n",
        "\n",
        "\n",
        "where\n",
        " is the standard deviation of the sampling distribution of the mean and\n",
        " is the standard deviation of the population (the population parameter).\n",
        "\n",
        "This is important because typically we are dealing with samples from populations and all we know about the population is what we see in the sample. From this sample, we want to make inferences about the population. We may do this, for example, by looking at the histogram of the values and by calculating the mean and standard deviation (as estimates of the population parameters), and so we are intrinsically interested in how these quantities vary across samples.\n",
        "\n",
        "In other words, now that we've taken one sample of size\n",
        " and made some claims about the general population, what if we were to take another sample of size\n",
        "? Would we get the same result? Would we make the same claims about the general population? This brings us to a fundamental question: when we make some inference about a population based on our sample, how confident can we be that we've got it 'right'?\n",
        "\n",
        "We need to think about estimates and confidence intervals: those concepts covered in Chapter 7, p. 189, of AoS.\n",
        "\n",
        "Now, the standard normal distribution (with its variance equal to its standard deviation of one) would not be a great illustration of a key point. Instead, let's imagine we live in a town of 50,000 people and we know the height of everyone in this town. We will have 50,000 numbers that tell us everything about our population. We'll simulate these numbers now and put ourselves in one particular town, called 'town 47', where the population mean height is 172 cm and population standard deviation is 5 cm."
      ],
      "metadata": {
        "id": "dWQIt9aewEN4"
      }
    },
    {
      "cell_type": "code",
      "source": [
        "seed(47)\n",
        "pop_heights = norm.rvs(172, 5, size=50000)"
      ],
      "metadata": {
        "id": "LbTA9Gp3wG-E"
      },
      "execution_count": 73,
      "outputs": []
    },
    {
      "cell_type": "code",
      "source": [
        "_ = plt.hist(pop_heights, bins=30)\n",
        "_ = plt.xlabel('height (cm)')\n",
        "_ = plt.ylabel('number of people')\n",
        "_ = plt.title('Distribution of heights in entire town population')\n",
        "_ = plt.axvline(172, color='r')\n",
        "_ = plt.axvline(172+5, color='r', linestyle='--')\n",
        "_ = plt.axvline(172-5, color='r', linestyle='--')\n",
        "_ = plt.axvline(172+10, color='r', linestyle='-.')\n",
        "_ = plt.axvline(172-10, color='r', linestyle='-.')"
      ],
      "metadata": {
        "colab": {
          "base_uri": "https://localhost:8080/",
          "height": 472
        },
        "id": "ENf9-GT7wKQr",
        "outputId": "8871bad8-246d-4e3e-c216-cd807cff8620"
      },
      "execution_count": 74,
      "outputs": [
        {
          "output_type": "display_data",
          "data": {
            "text/plain": [
              "<Figure size 640x480 with 1 Axes>"
            ],
            "image/png": "[encoded data removed]"
          },
          "metadata": {}
        }
      ]
    },
    {
      "cell_type": "markdown",
      "source": [
        "Now, 50,000 people is rather a lot to chase after with a tape measure. If all you want to know is the average height of the townsfolk, then can you just go out and measure a sample to get a pretty good estimate of the average height?"
      ],
      "metadata": {
        "id": "OtmTfTVLxLnm"
      }
    },
    {
      "cell_type": "code",
      "source": [
        "def townsfolk_sampler(n):\n",
        "    return np.random.choice(pop_heights, n)"
      ],
      "metadata": {
        "id": "ECWQGmVrxOlm"
      },
      "execution_count": 75,
      "outputs": []
    },
    {
      "cell_type": "markdown",
      "source": [
        "Let's say you go out one day and randomly sample 10 people to measure."
      ],
      "metadata": {
        "id": "pDFacWuRxTZV"
      }
    },
    {
      "cell_type": "code",
      "source": [
        "seed(47)\n",
        "daily_sample1 = townsfolk_sampler(10)"
      ],
      "metadata": {
        "id": "dKnC1oEWxUd6"
      },
      "execution_count": 76,
      "outputs": []
    },
    {
      "cell_type": "code",
      "source": [
        "_ = plt.hist(daily_sample1, bins=10)\n",
        "_ = plt.xlabel('height (cm)')\n",
        "_ = plt.ylabel('number of people')\n",
        "_ = plt.title('Distribution of heights in sample size 10')"
      ],
      "metadata": {
        "colab": {
          "base_uri": "https://localhost:8080/",
          "height": 472
        },
        "id": "u16hb4ACxWpv",
        "outputId": "bbc4b765-d15d-4b8c-8360-221347f19fe5"
      },
      "execution_count": 77,
      "outputs": [
        {
          "output_type": "display_data",
          "data": {
            "text/plain": [
              "<Figure size 640x480 with 1 Axes>"
            ],
            "image/png": "[encoded data removed]"
          },
          "metadata": {}
        }
      ]
    },
    {
      "cell_type": "markdown",
      "source": [
        "The sample distribution doesn't resemble what we take the population distribution to be. What do we get for the mean?"
      ],
      "metadata": {
        "id": "XYcDHxlWxb5q"
      }
    },
    {
      "cell_type": "code",
      "source": [
        "np.mean(daily_sample1)"
      ],
      "metadata": {
        "colab": {
          "base_uri": "https://localhost:8080/"
        },
        "id": "qswXWoivxeN2",
        "outputId": "fc83d9ec-1877-4a04-bcac-aed96468e0e2"
      },
      "execution_count": 78,
      "outputs": [
        {
          "output_type": "execute_result",
          "data": {
            "text/plain": [
              "173.47911444163503"
            ]
          },
          "metadata": {},
          "execution_count": 78
        }
      ]
    },
    {
      "cell_type": "markdown",
      "source": [
        "And if we went out and repeated this experiment?"
      ],
      "metadata": {
        "id": "VuGMjskvxgob"
      }
    },
    {
      "cell_type": "code",
      "source": [
        "daily_sample2 = townsfolk_sampler(10)"
      ],
      "metadata": {
        "id": "ZrArrKjjxipE"
      },
      "execution_count": 79,
      "outputs": []
    },
    {
      "cell_type": "code",
      "source": [
        "np.mean(daily_sample2)"
      ],
      "metadata": {
        "colab": {
          "base_uri": "https://localhost:8080/"
        },
        "id": "zgKziRlBxky5",
        "outputId": "db4769aa-5d4e-41f3-ac8c-429820c70e90"
      },
      "execution_count": 80,
      "outputs": [
        {
          "output_type": "execute_result",
          "data": {
            "text/plain": [
              "173.7317666636263"
            ]
          },
          "metadata": {},
          "execution_count": 80
        }
      ]
    },
    {
      "cell_type": "markdown",
      "source": [
        "Q8: Simulate performing this random trial every day for a year, calculating the mean of each daily sample of 10, and plot the resultant sampling distribution of the mean."
      ],
      "metadata": {
        "id": "S79mgFoUxrnV"
      }
    },
    {
      "cell_type": "code",
      "source": [
        "sampling_avg = np.empty(365)"
      ],
      "metadata": {
        "id": "qNLDvGRExuYz"
      },
      "execution_count": 81,
      "outputs": []
    },
    {
      "cell_type": "code",
      "source": [
        "seed(47)\n",
        "# take your samples here\n",
        "for i in range(365):\n",
        "    sampling_avg[i] = np.mean(townsfolk_sampler(10))"
      ],
      "metadata": {
        "id": "dOoL3SIYxxSC"
      },
      "execution_count": 82,
      "outputs": []
    },
    {
      "cell_type": "code",
      "source": [
        "_ = plt.hist(sampling_avg, bins=30)\n",
        "_ = plt.xlabel('height (cm)')\n",
        "_ = plt.ylabel('number of people')\n",
        "_ = plt.title('Distribution of means of samples of size 10 from town population')"
      ],
      "metadata": {
        "colab": {
          "base_uri": "https://localhost:8080/",
          "height": 472
        },
        "id": "ja34K_ljx0WB",
        "outputId": "ee93c64e-0a2d-4a6f-9fac-f37738bd1b92"
      },
      "execution_count": 83,
      "outputs": [
        {
          "output_type": "display_data",
          "data": {
            "text/plain": [
              "<Figure size 640x480 with 1 Axes>"
            ],
            "image/png": "[encoded data removed]"
          },
          "metadata": {}
        }
      ]
    },
    {
      "cell_type": "markdown",
      "source": [
        "The above is the distribution of the means of samples of size 10 taken from our population. The Central Limit Theorem tells us the expected mean of this distribution will be equal to the population mean, and standard deviation will be\n",
        ", which, in this case, should be approximately 1.58.\n",
        "\n",
        "Q9: Verify the above results from the CLT."
      ],
      "metadata": {
        "id": "rTFeRNeqx50K"
      }
    },
    {
      "cell_type": "code",
      "source": [
        "np.mean(sampling_avg)"
      ],
      "metadata": {
        "colab": {
          "base_uri": "https://localhost:8080/"
        },
        "id": "BrIFRHRmx89p",
        "outputId": "dfc30cd2-c87f-4632-dd09-61080fdda21d"
      },
      "execution_count": 84,
      "outputs": [
        {
          "output_type": "execute_result",
          "data": {
            "text/plain": [
              "171.8660049358649"
            ]
          },
          "metadata": {},
          "execution_count": 84
        }
      ]
    },
    {
      "cell_type": "code",
      "source": [
        "np.std(sampling_avg)"
      ],
      "metadata": {
        "colab": {
          "base_uri": "https://localhost:8080/"
        },
        "id": "PpMLmz6lx_hs",
        "outputId": "3c62c2fe-faf5-4557-8333-f6c73f61ea7d"
      },
      "execution_count": 85,
      "outputs": [
        {
          "output_type": "execute_result",
          "data": {
            "text/plain": [
              "1.5756704135286475"
            ]
          },
          "metadata": {},
          "execution_count": 85
        }
      ]
    },
    {
      "cell_type": "markdown",
      "source": [
        "Remember, in this instance, we knew our population parameters, that the average height really is 172 cm and the standard deviation is 5 cm, and we see some of our daily estimates of the population mean were as low as around 168 and some as high as 176.\n",
        "\n",
        "Q10: Repeat the above year's worth of samples but for a sample size of 50 (perhaps you had a bigger budget for conducting surveys that year)! Would you expect your distribution of sample means to be wider (more variable) or narrower (more consistent)? Compare your resultant summary statistics to those predicted by the CLT."
      ],
      "metadata": {
        "id": "FKTgRnS5yHWt"
      }
    },
    {
      "cell_type": "code",
      "source": [
        "sampling_avg = np.empty(365)"
      ],
      "metadata": {
        "id": "xbbcJbgMyIlt"
      },
      "execution_count": 86,
      "outputs": []
    },
    {
      "cell_type": "code",
      "source": [
        "seed(47)\n",
        "# take your samples here\n",
        "for i in range(365):\n",
        "    sampling_avg[i] = np.mean(townsfolk_sampler(50))"
      ],
      "metadata": {
        "id": "Pij3a11pyQed"
      },
      "execution_count": 87,
      "outputs": []
    },
    {
      "cell_type": "code",
      "source": [
        "_ = plt.hist(sampling_avg, bins=30)\n",
        "_ = plt.xlabel('height (cm)')\n",
        "_ = plt.ylabel('number of people')\n",
        "_ = plt.title('Distribution of means of samples of size 50 from town population')"
      ],
      "metadata": {
        "colab": {
          "base_uri": "https://localhost:8080/",
          "height": 472
        },
        "id": "4xxH2YD0yUWF",
        "outputId": "a374a7f9-3b88-4e6d-d02a-05149e991d8d"
      },
      "execution_count": 88,
      "outputs": [
        {
          "output_type": "display_data",
          "data": {
            "text/plain": [
              "<Figure size 640x480 with 1 Axes>"
            ],
            "image/png": "[encoded data removed]"
          },
          "metadata": {}
        }
      ]
    },
    {
      "cell_type": "markdown",
      "source": [
        "What we've seen so far, then, is that we can estimate population parameters from a sample from the population, and that samples have their own distributions. Furthermore, the larger the sample size, the narrower are those sampling distributions.\n",
        "\n",
        "Normally testing time!\n",
        "All of the above is well and good. We've been sampling from a population we know is normally distributed, we've come to understand when to use\n",
        " and when to use\n",
        " in the denominator to calculate the spread of a distribution, and we've seen the Central Limit Theorem in action for a sampling distribution. All seems very well behaved in Frequentist land. But, well, why should we really care?\n",
        "\n",
        "Remember, we rarely (if ever) actually know our population parameters but we still have to estimate them somehow. If we want to make inferences to conclusions like \"this observation is unusual\" or \"my population mean has changed\" then we need to have some idea of what the underlying distribution is so we can calculate relevant probabilities. In frequentist inference, we use the formulae above to deduce these population parameters. Take a moment in the next part of this assignment to refresh your understanding of how these probabilities work.\n",
        "\n",
        "Recall some basic properties of the standard normal distribution, such as that about 68% of observations are within plus or minus 1 standard deviation of the mean. Check out the precise definition of a normal distribution on p. 394 of AoS.\n",
        "\n",
        "Q11: Using this fact, calculate the probability of observing the value 1 or less in a single observation from the standard normal distribution. Hint: you may find it helpful to sketch the standard normal distribution (the familiar bell shape) and mark the number of standard deviations from the mean on the x-axis and shade the regions of the curve that contain certain percentages of the population.\n",
        "\n",
        "A: 0.84\n",
        "\n",
        "Calculating this probability involved calculating the area under the curve from the value of 1 and below. To put it in mathematical terms, we need to integrate the probability density function. We could just add together the known areas of chunks (from -Inf to 0 and then 0 to\n",
        " in the example above). One way to do this is to look up tables (literally). Fortunately, scipy has this functionality built in with the cdf() function.\n",
        "\n",
        "Q12: Use the cdf() function to answer the question above again and verify you get the same answer."
      ],
      "metadata": {
        "id": "c62kt364yZV9"
      }
    },
    {
      "cell_type": "code",
      "source": [
        "norm.cdf(1)"
      ],
      "metadata": {
        "colab": {
          "base_uri": "https://localhost:8080/"
        },
        "id": "Uy8v76Guybbt",
        "outputId": "4b5f99e5-dc7f-48c7-ca63-f5f08b1f0417"
      },
      "execution_count": 89,
      "outputs": [
        {
          "output_type": "execute_result",
          "data": {
            "text/plain": [
              "0.8413447460685429"
            ]
          },
          "metadata": {},
          "execution_count": 89
        }
      ]
    },
    {
      "cell_type": "markdown",
      "source": [
        "Q13: Using our knowledge of the population parameters for our townsfolks' heights, what is the probability of selecting one person at random and their height being 177 cm or less? Calculate this using both of the approaches given above."
      ],
      "metadata": {
        "id": "-14dCCqNygRx"
      }
    },
    {
      "cell_type": "code",
      "source": [
        "norm(172,5).cdf(177)"
      ],
      "metadata": {
        "colab": {
          "base_uri": "https://localhost:8080/"
        },
        "id": "TrdMfe6VyjD0",
        "outputId": "b2c78fe4-d9a6-43ac-cbf5-ee372b835c64"
      },
      "execution_count": 90,
      "outputs": [
        {
          "output_type": "execute_result",
          "data": {
            "text/plain": [
              "0.8413447460685429"
            ]
          },
          "metadata": {},
          "execution_count": 90
        }
      ]
    },
    {
      "cell_type": "markdown",
      "source": [
        "Q14: Turning this question around — suppose we randomly pick one person and measure their height and find they are 2.00 m tall. How surprised should we be at this result, given what we know about the population distribution? In other words, how likely would it be to obtain a value at least as extreme as this? Express this as a probability."
      ],
      "metadata": {
        "id": "ukTpHvkKymKY"
      }
    },
    {
      "cell_type": "code",
      "source": [
        "1 - norm(172,5).cdf(200)"
      ],
      "metadata": {
        "colab": {
          "base_uri": "https://localhost:8080/"
        },
        "id": "YzQlsXSlyoRY",
        "outputId": "45709e1c-1798-47a9-ce16-5fe3820df924"
      },
      "execution_count": 91,
      "outputs": [
        {
          "output_type": "execute_result",
          "data": {
            "text/plain": [
              "1.0717590259723409e-08"
            ]
          },
          "metadata": {},
          "execution_count": 91
        }
      ]
    },
    {
      "cell_type": "markdown",
      "source": [
        "What we've just done is calculate the *p-value* of the observation of someone 2.00m tall (review p-values if you need to on p. 399 of AoS). We could calculate this probability by virtue of knowing the population parameters. We were then able to use the known properties of the relevant normal distribution to calculate the probability of observing a value at least as extreme as our test value.\n",
        "\n",
        "We're about to come to a pinch, though. We've said a couple of times that we rarely, if ever, know the true population parameters; we have to estimate them from our sample and we cannot even begin to estimate the standard deviation from a single observation.\n",
        "\n",
        "This is very true and usually we have sample sizes larger than one. This means we can calculate the mean of the sample as our best estimate of the population mean and the standard deviation as our best estimate of the population standard deviation.\n",
        "\n",
        "In other words, we are now coming to deal with the sampling distributions we mentioned above as we are generally concerned with the properties of the sample means we obtain.\n",
        "\n",
        "Above, we highlighted one result from the CLT, whereby the sampling distribution (of the mean) becomes narrower and narrower with the square root of the sample size. We remind ourselves that another result from the CLT is that even if the underlying population distribution is not normal, the sampling distribution will tend to become normal with sufficiently large sample size. (Check out p. 199 of AoS if you need to revise this). This is the key driver for us 'requiring' a certain sample size, for example you may frequently see a minimum sample size of 30 stated in many places. In reality this is simply a rule of thumb; if the underlying distribution is approximately normal then your sampling distribution will already be pretty normal, but if the underlying distribution is heavily skewed then you'd want to increase your sample size.\n",
        "\n",
        "Q15: Let's now start from the position of knowing nothing about the heights of people in our town.\n",
        "\n",
        "Use the random seed of 47, to randomly sample the heights of 50 townsfolk\n",
        "Estimate the population mean using np.mean\n",
        "Estimate the population standard deviation using np.std (remember which denominator to use!)\n",
        "Calculate the (95%) margin of error (use the exact critial z value to 2 decimal places - look this up or use norm.ppf()) Recall that the *margin of error* is mentioned on p. 189 of the AoS and discussed in depth in that chapter).\n",
        "Calculate the 95% Confidence Interval of the mean (*confidence intervals* are defined on p. 385 of AoS)\n",
        "Does this interval include the true population mean?"
      ],
      "metadata": {
        "id": "HmXoH5IIysNg"
      }
    },
    {
      "cell_type": "code",
      "source": [
        "seed(47)\n",
        "# take your sample now\n",
        "sample_50_height = townsfolk_sampler(50)"
      ],
      "metadata": {
        "id": "qH7dxc0vyu4w"
      },
      "execution_count": 92,
      "outputs": []
    },
    {
      "cell_type": "code",
      "source": [
        "sample_mean_height = np.mean(sample_50_height)\n",
        "print(sample_mean_height)"
      ],
      "metadata": {
        "colab": {
          "base_uri": "https://localhost:8080/"
        },
        "id": "-FHcWB17yw2S",
        "outputId": "8e567549-d82c-46a1-d3b4-ba6a89361508"
      },
      "execution_count": 93,
      "outputs": [
        {
          "output_type": "stream",
          "name": "stdout",
          "text": [
            "172.7815108576788\n"
          ]
        }
      ]
    },
    {
      "cell_type": "code",
      "source": [
        "z_critical = norm.ppf(0.975)\n",
        "sample_margin_of_error = z_critical * (sample_std_height/np.sqrt(50))\n",
        "print(sample_margin_of_error )"
      ],
      "metadata": {
        "colab": {
          "base_uri": "https://localhost:8080/"
        },
        "id": "2Ozu1WkJy0jf",
        "outputId": "5103d96d-fc7c-425d-da80-2623b35fce1b"
      },
      "execution_count": 94,
      "outputs": [
        {
          "output_type": "stream",
          "name": "stdout",
          "text": [
            "1.1628909342876539\n"
          ]
        }
      ]
    },
    {
      "cell_type": "code",
      "source": [
        "sample_confidence_interval = (sample_mean_height - sample_margin_of_error,\n",
        "                             sample_mean_height + sample_margin_of_error)\n",
        "print(sample_confidence_interval)"
      ],
      "metadata": {
        "colab": {
          "base_uri": "https://localhost:8080/"
        },
        "id": "kcUPbc22y3eU",
        "outputId": "249adb6f-45e4-4538-db21-4e041b14808d"
      },
      "execution_count": 95,
      "outputs": [
        {
          "output_type": "stream",
          "name": "stdout",
          "text": [
            "(171.61861992339115, 173.94440179196644)\n"
          ]
        }
      ]
    },
    {
      "cell_type": "markdown",
      "source": [
        "Q16: Above, we calculated the confidence interval using the critical z value. What is the problem with this? What requirement, or requirements, are we (strictly) failing?\n",
        "\n",
        "A: Assuming the population is normally distributed by using norm.ppf()\n",
        "\n",
        "Q17: Calculate the 95% confidence interval for the mean using the t distribution. Is this wider or narrower than that based on the normal distribution above? If you're unsure, you may find this resource useful. For calculating the critical value, remember how you could calculate this for the normal distribution using norm.ppf()."
      ],
      "metadata": {
        "id": "JkNgmGbey8Nn"
      }
    },
    {
      "cell_type": "code",
      "source": [
        "t_critical = t.ppf(0.975, 49)"
      ],
      "metadata": {
        "id": "X-l-aa_Fy-yc"
      },
      "execution_count": 96,
      "outputs": []
    },
    {
      "cell_type": "code",
      "source": [
        "sample_t_margin_of_error = t_critical * (sample_std_height/np.sqrt(50))"
      ],
      "metadata": {
        "id": "fr_ZVOyE0DYK"
      },
      "execution_count": 97,
      "outputs": []
    },
    {
      "cell_type": "code",
      "source": [
        "sample_t_confidence_interval = (sample_mean_height - sample_t_margin_of_error,\n",
        "                             sample_mean_height + sample_t_margin_of_error)\n",
        "print(sample_t_confidence_interval)"
      ],
      "metadata": {
        "colab": {
          "base_uri": "https://localhost:8080/"
        },
        "id": "RgIF2KZ23A97",
        "outputId": "157cd5d3-6e2d-4882-82fa-3b759ffa1a1d"
      },
      "execution_count": 98,
      "outputs": [
        {
          "output_type": "stream",
          "name": "stdout",
          "text": [
            "(171.589184447403, 173.9738372679546)\n"
          ]
        }
      ]
    },
    {
      "cell_type": "markdown",
      "source": [
        "This is slightly wider than the previous confidence interval. This reflects the greater uncertainty given that we are estimating population parameters from a sample.\n",
        "\n",
        "4. Learning outcomes\n",
        "Having completed this project notebook, you now have hands-on experience:\n",
        "\n",
        "sampling and calculating probabilities from a normal distribution\n",
        "identifying the correct way to estimate the standard deviation of a population (the population parameter) from a sample\n",
        "with sampling distribution and now know how the Central Limit Theorem applies\n",
        "with how to calculate critical values and confidence intervals"
      ],
      "metadata": {
        "id": "zn8R6HlW3FLv"
      }
    }
  ]
}